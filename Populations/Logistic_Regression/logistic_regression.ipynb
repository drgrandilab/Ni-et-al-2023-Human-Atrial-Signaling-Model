{
 "cells": [
  {
   "cell_type": "code",
   "execution_count": 1,
   "metadata": {},
   "outputs": [],
   "source": [
    "from sklearn.linear_model import LogisticRegression\n",
    "import numpy as np"
   ]
  },
  {
   "cell_type": "code",
   "execution_count": 2,
   "metadata": {},
   "outputs": [
    {
     "name": "stdout",
     "output_type": "stream",
     "text": [
      "[ 0.7802934   1.98877067  0.29959262  0.76964399  0.80130244  0.47246895\n",
      "  0.87276949  0.86618731  2.06028114 -0.65488362 -0.46717054 -0.99041783\n",
      " -0.00935007  0.35871328 -0.34488233 -0.59886012 -2.29390382 -0.86103897\n",
      "  0.2155184   0.20675044  0.97929102  0.21874898 -0.42905348  0.67234193\n",
      " -0.15186431]\n"
     ]
    }
   ],
   "source": [
    "Xraw = np.loadtxt('para.log',unpack=False)\n",
    "from scipy import stats \n",
    "\n",
    "\n",
    "\n",
    "X = stats.zscore(np.log(Xraw), axis=0)\n",
    "\n",
    "\n",
    "from sklearn.preprocessing import StandardScaler\n",
    "\n",
    "scaler = StandardScaler()\n",
    "scaler.fit(np.log(Xraw))\n",
    "print(scaler.transform(np.log(Xraw))[0])\n",
    "\n"
   ]
  },
  {
   "cell_type": "code",
   "execution_count": 3,
   "metadata": {},
   "outputs": [
    {
     "name": "stdout",
     "output_type": "stream",
     "text": [
      "25\n",
      "(600, 25)\n",
      "[ 0.7802934   1.98877067  0.29959262  0.76964399  0.80130244  0.47246895\n",
      "  0.87276949  0.86618731  2.06028114 -0.65488362 -0.46717054 -0.99041783\n",
      " -0.00935007  0.35871328 -0.34488233 -0.59886012 -2.29390382 -0.86103897\n",
      "  0.2155184   0.20675044  0.97929102  0.21874898 -0.42905348  0.67234193\n",
      " -0.15186431]\n",
      "600\n"
     ]
    }
   ],
   "source": [
    "print(len(X[0]))\n",
    "print (X.shape)\n",
    "print (X[0])\n",
    "print(len(X))"
   ]
  },
  {
   "cell_type": "code",
   "execution_count": 4,
   "metadata": {},
   "outputs": [],
   "source": [
    "Y = np.loadtxt('DAD.log')"
   ]
  },
  {
   "cell_type": "code",
   "execution_count": 5,
   "metadata": {},
   "outputs": [],
   "source": [
    "#print(Y)"
   ]
  },
  {
   "cell_type": "code",
   "execution_count": 10,
   "metadata": {},
   "outputs": [
    {
     "name": "stderr",
     "output_type": "stream",
     "text": [
      "/opt/anaconda3/lib/python3.7/site-packages/sklearn/linear_model/logistic.py:432: FutureWarning: Default solver will be changed to 'lbfgs' in 0.22. Specify a solver to silence this warning.\n",
      "  FutureWarning)\n"
     ]
    }
   ],
   "source": [
    "clf = LogisticRegression(random_state=0,C=10).fit(X, Y)"
   ]
  },
  {
   "cell_type": "code",
   "execution_count": 11,
   "metadata": {},
   "outputs": [
    {
     "data": {
      "text/plain": [
       "0.9833333333333333"
      ]
     },
     "execution_count": 11,
     "metadata": {},
     "output_type": "execute_result"
    }
   ],
   "source": [
    "clf.score(X, Y)"
   ]
  },
  {
   "cell_type": "code",
   "execution_count": 12,
   "metadata": {},
   "outputs": [
    {
     "name": "stdout",
     "output_type": "stream",
     "text": [
      "[ 0.11527559  1.42944306  0.10479967 -6.59496409 -0.40248873 -2.94234558\n",
      " -0.38665727 -0.10258925  0.15954943  0.60683204 -0.23746221 -0.23027082\n",
      " -0.62473644 11.58908834  0.01613368 -0.3519312  -3.40703185 -0.37738363\n",
      " -1.02194392  0.99210399  1.12792339 -0.4198156  -0.40200203  1.31785499\n",
      " -2.09509401]\n"
     ]
    }
   ],
   "source": [
    "print (clf.coef_[0])"
   ]
  },
  {
   "cell_type": "code",
   "execution_count": 13,
   "metadata": {},
   "outputs": [
    {
     "data": {
      "text/plain": [
       "<BarContainer object of 25 artists>"
      ]
     },
     "execution_count": 13,
     "metadata": {},
     "output_type": "execute_result"
    },
    {
     "data": {
      "image/png": "[encoded data removed]",
      "text/plain": [
       "<Figure size 432x288 with 1 Axes>"
      ]
     },
     "metadata": {
      "needs_background": "light"
     },
     "output_type": "display_data"
    }
   ],
   "source": [
    "import matplotlib.pyplot as plt\n",
    "plt.bar(range(len(clf.coef_[0])), clf.coef_[0])"
   ]
  },
  {
   "cell_type": "code",
   "execution_count": 14,
   "metadata": {},
   "outputs": [
    {
     "name": "stdout",
     "output_type": "stream",
     "text": [
      "matplotlib: 3.4.1\n"
     ]
    }
   ],
   "source": [
    "import matplotlib;print('matplotlib: {}'.format(matplotlib. __version__)) "
   ]
  },
  {
   "cell_type": "code",
   "execution_count": 15,
   "metadata": {},
   "outputs": [],
   "source": [
    "import pandas as pd"
   ]
  },
  {
   "cell_type": "code",
   "execution_count": 22,
   "metadata": {},
   "outputs": [],
   "source": [
    "EAD = pd.read_csv('EAD.log',header=None)\n"
   ]
  },
  {
   "cell_type": "code",
   "execution_count": 23,
   "metadata": {},
   "outputs": [],
   "source": [
    "# print (EAD)"
   ]
  },
  {
   "cell_type": "code",
   "execution_count": 24,
   "metadata": {},
   "outputs": [
    {
     "name": "stderr",
     "output_type": "stream",
     "text": [
      "/opt/anaconda3/lib/python3.7/site-packages/sklearn/linear_model/logistic.py:432: FutureWarning: Default solver will be changed to 'lbfgs' in 0.22. Specify a solver to silence this warning.\n",
      "  FutureWarning)\n",
      "/opt/anaconda3/lib/python3.7/site-packages/sklearn/linear_model/logistic.py:1506: UserWarning: l1_ratio parameter is only used when penalty is 'elasticnet'. Got (penalty=l2)\n",
      "  \"(penalty={})\".format(self.penalty))\n"
     ]
    }
   ],
   "source": [
    "clf2 = LogisticRegression(random_state=0,C=10,l1_ratio=0.5,tol=0.01).fit(X, EAD[0])"
   ]
  },
  {
   "cell_type": "code",
   "execution_count": 25,
   "metadata": {},
   "outputs": [
    {
     "data": {
      "text/plain": [
       "0.8433333333333334"
      ]
     },
     "execution_count": 25,
     "metadata": {},
     "output_type": "execute_result"
    }
   ],
   "source": [
    "clf2.score(X, EAD)"
   ]
  },
  {
   "cell_type": "code",
   "execution_count": 26,
   "metadata": {},
   "outputs": [
    {
     "data": {
      "text/plain": [
       "<BarContainer object of 25 artists>"
      ]
     },
     "execution_count": 26,
     "metadata": {},
     "output_type": "execute_result"
    },
    {
     "data": {
      "image/png": "[encoded data removed]",
      "text/plain": [
       "<Figure size 432x288 with 1 Axes>"
      ]
     },
     "metadata": {
      "needs_background": "light"
     },
     "output_type": "display_data"
    }
   ],
   "source": [
    "plt.bar(range(len(clf2.coef_[0])), clf2.coef_[0])"
   ]
  },
  {
   "cell_type": "code",
   "execution_count": 28,
   "metadata": {},
   "outputs": [],
   "source": [
    "index = pd.read_csv('index.log',header=None)"
   ]
  },
  {
   "cell_type": "code",
   "execution_count": 51,
   "metadata": {},
   "outputs": [],
   "source": [
    "len(X[index[0]])\n",
    "\n",
    "newX = X[index[0]]\n",
    "\n",
    "New_EAD = EAD[0][index[0]]"
   ]
  },
  {
   "cell_type": "code",
   "execution_count": 62,
   "metadata": {},
   "outputs": [
    {
     "name": "stderr",
     "output_type": "stream",
     "text": [
      "/opt/anaconda3/lib/python3.7/site-packages/sklearn/linear_model/logistic.py:432: FutureWarning: Default solver will be changed to 'lbfgs' in 0.22. Specify a solver to silence this warning.\n",
      "  FutureWarning)\n"
     ]
    }
   ],
   "source": [
    "clf2 = LogisticRegression(random_state=2,C=11).fit(newX,New_EAD)"
   ]
  },
  {
   "cell_type": "code",
   "execution_count": 63,
   "metadata": {},
   "outputs": [
    {
     "data": {
      "text/plain": [
       "0.9674502712477396"
      ]
     },
     "execution_count": 63,
     "metadata": {},
     "output_type": "execute_result"
    }
   ],
   "source": [
    "clf2.score(newX, New_EAD)"
   ]
  },
  {
   "cell_type": "code",
   "execution_count": 59,
   "metadata": {},
   "outputs": [
    {
     "data": {
      "text/plain": [
       "<BarContainer object of 25 artists>"
      ]
     },
     "execution_count": 59,
     "metadata": {},
     "output_type": "execute_result"
    },
    {
     "data": {
      "image/png": "[encoded data removed]",
      "text/plain": [
       "<Figure size 432x288 with 1 Axes>"
      ]
     },
     "metadata": {
      "needs_background": "light"
     },
     "output_type": "display_data"
    }
   ],
   "source": [
    "plt.bar(range(len(clf2.coef_[0])), clf2.coef_[0])"
   ]
  },
  {
   "cell_type": "code",
   "execution_count": 148,
   "metadata": {},
   "outputs": [],
   "source": [
    "from sklearn.decomposition import PCA\n"
   ]
  },
  {
   "cell_type": "code",
   "execution_count": 165,
   "metadata": {},
   "outputs": [
    {
     "name": "stdout",
     "output_type": "stream",
     "text": [
      "260\n",
      "           0         1         2         3         4         5         6   \\\n",
      "0   -0.692443  0.593358  1.123803 -0.255286 -0.861317  0.411568 -1.325526   \n",
      "1    0.091504 -0.801017 -0.169864 -0.067634  0.758179  0.535518  0.001206   \n",
      "2   -0.044509 -0.691760  0.749851  1.057226  0.838464  1.216997 -1.404158   \n",
      "3   -0.598844  1.462603  0.605301  0.168336  0.707331  0.747154 -0.299657   \n",
      "4   -1.851224  0.441806  0.003162 -1.439116 -0.594200 -2.870266 -1.346051   \n",
      "5   -0.586683 -0.747499  0.856470 -0.640078 -0.066323  0.054340 -1.282272   \n",
      "6    0.691669  1.761958 -1.065422  0.682212  0.441362 -0.103122 -0.213512   \n",
      "7    1.531799 -2.004360 -1.317791  1.119550  0.589401 -0.776986 -0.524073   \n",
      "8   -1.038376 -0.308676  0.682802 -0.407270 -0.632755 -0.829883 -0.604628   \n",
      "9    1.346134  1.023176  0.501819  0.899922 -0.724590  0.887849  1.984778   \n",
      "10   0.165946  0.056570  0.117009 -0.122952  0.593419 -0.649192 -0.911220   \n",
      "11   2.015082  0.086379 -1.854361  0.808317  0.582102 -0.358158 -1.277885   \n",
      "12  -0.964432  0.258438  0.265780 -1.118939 -0.721649 -0.700757 -0.901912   \n",
      "13  -1.378881  1.258660  1.392258  0.230520 -0.997531  0.453438  0.565557   \n",
      "14  -1.591825  1.229349  1.136265 -0.696592 -0.366027 -1.236772 -1.826847   \n",
      "15  -0.771845  0.158822 -0.707281 -1.801604 -0.332123  0.513860 -1.575724   \n",
      "16   1.492111 -1.231760 -2.154732 -0.344225 -0.991409  0.609936 -1.210676   \n",
      "17   0.473100 -0.608998 -3.299622 -0.037471  0.116364  2.086367  0.393209   \n",
      "18  -0.107244 -0.369255  0.538071  0.556832  0.364169  1.281087  0.145486   \n",
      "19  -0.504348 -0.480004  0.526503 -0.243088 -0.818237  1.602332 -0.025499   \n",
      "20   0.661398  1.019125 -0.934999  0.796786 -1.244598 -0.714407 -0.376347   \n",
      "21   0.802864 -0.373645  1.156933 -0.609439 -0.507846  0.479276  0.025285   \n",
      "22  -0.188083  0.501092 -0.641396  0.981306 -0.071978 -0.869672  1.000376   \n",
      "23  -1.155158  0.676216 -1.222786  0.852563  0.152532 -0.369580 -2.004904   \n",
      "24   0.036114 -0.888181  1.244541 -0.334028  2.243972  2.951401 -1.704120   \n",
      "25  -0.834598 -0.674584  0.099894 -1.021360 -1.270321 -0.855108 -0.896447   \n",
      "26   0.124462  0.539295  0.355397  0.673176  1.145700  0.772974  1.111237   \n",
      "27   0.270225  0.905279  0.160567  1.048943  0.596532  0.527943  1.669613   \n",
      "28   0.849006  1.408964 -0.217819  0.400530 -0.149348  0.562740  0.242403   \n",
      "29  -1.257407 -1.426834 -0.811307 -1.577786 -0.890710  0.264000  1.196973   \n",
      "..        ...       ...       ...       ...       ...       ...       ...   \n",
      "230  0.634621  1.294397  0.618823  0.229400 -1.137292  0.516680  0.358159   \n",
      "231 -0.057401  1.204742 -0.032491  0.337721 -1.211394 -0.059143  0.513299   \n",
      "232 -1.070148 -0.363688  0.205008  1.873298 -0.006857  0.628686  0.406214   \n",
      "233  0.856627  0.568122  0.460631 -0.573216  0.530889 -0.882684 -0.194033   \n",
      "234  0.032862 -0.550028 -1.308149 -0.176412 -0.553785 -0.810052  0.309725   \n",
      "235  1.528593 -0.219803  0.180572  0.981503 -1.863205  0.574368 -0.431045   \n",
      "236 -0.404602 -1.063167  0.107413  0.078136 -0.564303 -0.189127 -1.393075   \n",
      "237  0.833426 -0.041698 -0.964354  0.369081  0.593743 -1.065043  0.630578   \n",
      "238  0.267881  0.103508 -0.648469 -0.362874 -1.878561 -0.578571  0.591432   \n",
      "239  0.103271  1.772442  0.316113  0.659015 -0.310868  1.995911  1.501735   \n",
      "240 -0.500814 -1.161137 -0.066088  0.590890 -0.662382 -0.832952  0.108213   \n",
      "241  0.026523  0.301472  0.192246 -0.568821 -1.237820 -1.918263 -0.521221   \n",
      "242 -0.577860  0.998409 -0.032501  0.133192  0.427704 -1.530513 -1.057260   \n",
      "243 -0.062207  0.180171 -0.040215  0.974832  0.207872 -0.157569 -0.480239   \n",
      "244 -0.543577 -1.571035  3.263071 -0.033241  0.504517  0.383657  0.383659   \n",
      "245 -0.076796 -0.253508  0.485400  0.120422 -0.237553 -0.405438 -0.666174   \n",
      "246 -0.296897 -0.615964 -0.324677 -0.253179  1.132444 -0.467547  0.082382   \n",
      "247 -0.829049  0.068060 -2.717094 -1.406915 -1.042385  0.694867 -0.132155   \n",
      "248 -0.307059 -1.128471 -1.527756 -1.009290  0.166003 -0.130003 -0.843549   \n",
      "249  0.153194  0.581305 -1.489977  0.419834  1.189403  1.236926 -0.790338   \n",
      "250 -1.653939 -1.257915 -0.561797 -0.235022  0.232714 -0.484958 -0.662672   \n",
      "251  1.162439 -0.305792  1.719096  1.358189  0.055907 -2.155910  1.285477   \n",
      "252  0.166300  0.326147  0.069047  1.553420  0.800379  1.321258  1.272379   \n",
      "253  0.091042  2.421223  1.560717  1.606441 -0.023923  0.881183 -0.767496   \n",
      "254 -0.154540  0.447614  1.178797  1.102809  1.074234 -0.466031 -0.351615   \n",
      "255  1.503881  1.262997 -0.911066  0.277402 -0.815421 -0.337961  0.783771   \n",
      "256 -0.853941 -0.268472 -0.433066  0.397847  1.003033  0.471042 -0.447325   \n",
      "257  1.819220  0.882789 -0.764293 -1.261027 -0.336143 -1.133420 -0.255121   \n",
      "258 -0.960264  0.919943 -0.234318  0.528469  0.397662  1.068576 -0.918012   \n",
      "259  0.248197  0.832390 -0.176024  0.948890 -0.295742  1.564289  0.307772   \n",
      "\n",
      "           7         8         9   ...        15        16        17  \\\n",
      "0    1.106178  0.473412  1.225488  ...  1.472900  0.694741  1.168469   \n",
      "1   -0.423782  1.808103  0.774713  ... -2.460462 -0.261759 -2.306563   \n",
      "2    1.035073 -0.215611  0.594077  ... -1.508255 -0.693460 -0.910296   \n",
      "3    1.362227 -0.515237  0.768300  ...  0.855878  1.513042 -1.412565   \n",
      "4   -0.072748 -0.343934  0.352351  ...  0.006573  0.433524 -0.260916   \n",
      "5   -1.679791  1.009646 -0.163792  ... -1.325637 -0.064495 -0.991299   \n",
      "6    1.050222  0.451612 -2.976001  ... -0.036184  0.828443 -1.463099   \n",
      "7    0.425153  0.462051 -1.145040  ...  0.053041  0.515835  2.020132   \n",
      "8    0.607413 -0.596218 -0.524422  ... -0.879242  0.546080  1.509743   \n",
      "9   -0.678392 -0.582613 -0.596512  ...  0.300759 -0.480376  0.707682   \n",
      "10   0.499557  0.514044 -1.519150  ... -0.977283 -0.652517  0.305842   \n",
      "11   0.436013  0.425597 -1.430702  ...  0.606857  0.428168  0.483228   \n",
      "12  -1.174270 -0.245009  0.219386  ... -0.611671 -0.074496 -1.684752   \n",
      "13   0.488243  0.433928  0.346675  ... -0.160450 -1.897304 -0.353050   \n",
      "14  -0.049801  1.225784 -1.621269  ... -0.637642  0.274445  0.728598   \n",
      "15  -1.780878 -1.669553  1.080281  ...  0.142437 -0.043479  0.811357   \n",
      "16  -0.468557 -0.956860 -0.319747  ... -0.613375 -0.575171 -0.003736   \n",
      "17   0.006244  0.981848 -0.700364  ... -1.949170 -0.446266  1.333402   \n",
      "18  -0.390951  0.979451  1.556310  ... -1.594402  1.198549 -0.381925   \n",
      "19  -0.376037  1.148514 -0.974095  ... -0.513873 -0.563974 -0.815752   \n",
      "20   0.616269  0.888343  0.600217  ... -1.175877  0.967919  1.072428   \n",
      "21  -0.401697 -1.292095  0.012898  ...  0.779162 -0.602952 -1.195827   \n",
      "22  -1.943424 -0.168058 -1.879706  ... -0.361949 -0.490553 -0.330017   \n",
      "23  -1.054498  0.633374 -2.180950  ...  0.229390 -0.607171 -1.564338   \n",
      "24  -0.871414  0.548362  1.655492  ...  0.421552  1.028104  0.959798   \n",
      "25  -1.181444  0.152852 -0.639123  ... -0.574764  0.172487 -0.592946   \n",
      "26  -0.314157  0.177228  1.560865  ... -0.015636 -0.482439  0.341543   \n",
      "27  -0.742341 -0.112033 -0.618818  ...  0.358280  0.012230 -0.145776   \n",
      "28  -0.405887 -0.213642  0.133428  ... -0.842522 -0.716560 -1.252479   \n",
      "29  -0.505416 -0.627297  1.331680  ... -0.614316  0.957911 -1.633573   \n",
      "..        ...       ...       ...  ...       ...       ...       ...   \n",
      "230  0.110653 -1.002319  0.929383  ...  0.383834 -2.178170 -1.179606   \n",
      "231  1.682003 -0.711785 -0.227010  ... -1.049007  2.166658  0.446881   \n",
      "232 -1.418176  0.370476  1.581850  ...  0.153365  0.418303 -1.559766   \n",
      "233 -0.203506  0.241207 -0.770411  ...  0.277684  1.917789  0.730843   \n",
      "234 -1.969270 -1.037097 -0.009303  ... -1.057642  0.632608  0.211685   \n",
      "235  0.522087  0.563469 -0.058235  ... -0.233004  0.489921  0.143003   \n",
      "236  0.281079  0.520769  1.383151  ... -0.446884 -2.931357  0.263823   \n",
      "237 -0.461700  0.598606 -1.295479  ...  0.876589 -0.167684 -1.634450   \n",
      "238 -0.494660 -0.839260  0.540846  ...  0.564158  0.424164 -0.922347   \n",
      "239  0.131864 -1.362550  0.849384  ... -1.365039 -2.433411  1.554983   \n",
      "240 -0.224188  0.182698 -0.135109  ...  0.269500 -1.418564 -0.483826   \n",
      "241  0.136306  0.606595  0.144263  ...  0.738855  1.172610  0.441136   \n",
      "242  1.152814 -0.729920 -0.541129  ... -1.466689  0.424021 -1.284891   \n",
      "243  0.753203  0.565148 -0.580965  ...  0.372198  0.547601 -0.312994   \n",
      "244  0.813250  0.100816  0.044975  ... -0.535591  0.336917  2.665561   \n",
      "245 -0.934106  0.207346  0.810651  ...  0.240911 -0.959639 -0.137574   \n",
      "246  1.433306  0.391416 -1.638285  ...  1.190884 -0.415869  1.680601   \n",
      "247  0.454951 -0.599282  1.249613  ... -2.927267  0.100882 -1.055451   \n",
      "248  0.510728  0.023050 -1.271205  ...  1.681447  0.253052  0.071440   \n",
      "249  0.133265  0.531327  0.591954  ... -0.847308 -1.042969  0.974507   \n",
      "250 -0.075396 -0.754365  0.551104  ... -0.072200  0.574643  1.478547   \n",
      "251  0.108541  2.276590  0.962858  ...  0.781554  1.439785  0.646988   \n",
      "252  1.560455  0.305131 -1.482330  ...  0.000167 -1.617847 -0.576204   \n",
      "253  1.732034  0.544674  0.067513  ...  0.710023 -0.704987 -1.174228   \n",
      "254  1.919866  1.094335  1.239760  ... -0.378082 -1.291578 -0.908499   \n",
      "255 -1.183639 -0.369984 -1.398127  ... -1.313144 -0.922031  1.169060   \n",
      "256  0.597250 -0.874862  0.308240  ...  0.342465 -0.053257  0.009320   \n",
      "257 -0.383873  0.313251  0.520441  ... -0.411585  1.285833 -0.847563   \n",
      "258 -0.748969 -1.200819  1.139669  ... -0.280068 -0.024512  0.332501   \n",
      "259 -1.240003 -0.975657  0.076254  ... -0.188712 -0.527947  0.721962   \n",
      "\n",
      "           18        19        20        21        22        23        24  \n",
      "0   -0.178204  0.074329 -0.551059  1.767597  0.277277  1.896047 -0.349921  \n",
      "1   -1.195467  0.437662 -1.677772  0.835830  1.726504  0.945979  0.601518  \n",
      "2    1.193259 -0.575008 -1.412636 -0.137432  0.266869  0.166166  1.266166  \n",
      "3   -1.271471 -0.951660  0.506078  0.381383  0.236019  0.845054 -0.602372  \n",
      "4   -0.789275  1.469049  0.811881  0.338303  0.389602  0.411547 -0.821539  \n",
      "5    0.131937 -0.731969  0.315631 -0.005046  0.085286  0.508288 -0.020595  \n",
      "6   -1.163088 -0.537562 -0.638803  0.217450  0.583586 -0.338242  2.177549  \n",
      "7   -0.954403 -2.133667  2.012064  1.799442  0.782516 -0.187499 -0.010813  \n",
      "8    1.667839 -0.570091 -0.423192 -1.209672 -1.335030  1.348818  0.393349  \n",
      "9    0.191796  2.642056  0.601823 -1.070268  0.833921 -1.495130  0.783729  \n",
      "10   0.276040 -0.362760 -2.198408  1.267671 -0.947423  0.425748  0.526275  \n",
      "11  -0.138284  0.106810  0.053133 -0.214157 -0.700407  0.239944 -1.154569  \n",
      "12  -0.372699  0.733535 -1.174789 -0.675617  0.061472  0.758959 -1.592914  \n",
      "13  -0.515232 -1.736712  0.468019 -1.246165  0.442273  2.318969 -1.355867  \n",
      "14  -0.605338  1.442181 -0.035623  0.084570 -0.415114 -0.173355 -0.105943  \n",
      "15   0.243862 -0.298387 -0.101481  0.333691 -1.541650 -0.472638  0.995657  \n",
      "16   1.572897 -0.863960  1.161410 -2.331552 -0.813792 -0.320073 -0.418014  \n",
      "17   0.183631  1.193058  0.066546  0.676658  1.222785  1.353697  0.004210  \n",
      "18  -0.390139  0.590273  0.320632 -0.046214 -0.615883  0.628223 -0.670186  \n",
      "19   1.942631 -0.401318  0.863974  0.503737  0.745322 -1.059684 -0.829822  \n",
      "20   0.331238  1.001601  0.398573  1.207579  0.199469 -0.457902  0.814163  \n",
      "21   1.797767  1.655568  0.205127  0.225141  0.084281 -0.423668 -0.230256  \n",
      "22  -1.528317  0.537725 -1.343836 -0.407279 -0.504418 -0.702143 -0.929192  \n",
      "23  -0.831140 -1.653751 -0.595280  0.662003 -0.903045 -1.196962 -0.904969  \n",
      "24  -1.449013  0.525728 -0.003735  1.074591 -0.221990  0.526748 -1.846103  \n",
      "25   0.357266  0.302905 -1.602912  1.211262 -1.477668 -0.458012 -1.592295  \n",
      "26  -0.842476 -1.785608 -2.344818 -0.924369 -1.484167  1.135256  0.146498  \n",
      "27  -0.114416 -0.909490 -0.182938 -1.123116  1.676907 -0.103360  0.115904  \n",
      "28   0.514480  0.189555 -0.379966 -0.620697  0.363133 -0.784500 -0.765127  \n",
      "29  -0.144088  0.866679  0.172179 -1.108605 -0.087583  0.216453  0.429688  \n",
      "..        ...       ...       ...       ...       ...       ...       ...  \n",
      "230 -0.523870  0.291784 -0.813232 -1.154691 -0.964981  0.092038 -0.108251  \n",
      "231  0.652025  0.659257  0.203068  2.046672 -0.120023 -0.328615  1.226811  \n",
      "232 -0.661713 -0.027078  1.027699  0.036657  1.167886  0.680966  0.159397  \n",
      "233  1.180616 -0.223438 -1.155008 -0.784919  1.205163 -0.404153  0.959819  \n",
      "234 -0.549216  0.014481  1.293949 -1.749200  0.149017  0.774121 -0.016999  \n",
      "235  0.102856  0.345105  0.941513  2.588015  1.397801 -1.425636 -0.616226  \n",
      "236 -0.910848 -0.271074 -0.290708 -0.080679  0.575978 -0.049591  0.983465  \n",
      "237 -0.669366 -0.867035  1.779757 -0.788809 -0.956209 -0.224904  1.049155  \n",
      "238  0.452358  0.211269 -1.006084 -1.083588  0.723463  1.924555  0.764583  \n",
      "239 -1.001130  0.752127  0.844693  0.321089 -0.624549 -1.001560 -0.702482  \n",
      "240  0.438634 -0.761074 -1.232453  1.976815  0.820660  1.313895 -0.031716  \n",
      "241  1.896790 -0.328812 -1.928969 -0.466767  0.832785  1.387969 -0.867089  \n",
      "242  0.466465 -0.856122 -0.016020  0.214198 -0.350838  1.108897  0.455924  \n",
      "243 -0.086560  1.036231  0.436834  0.613206 -0.587738  1.840479 -1.264051  \n",
      "244  1.221928  0.424759  1.886440  0.909820 -2.474729  0.192847 -0.762492  \n",
      "245 -0.682929 -1.264910 -0.224403  0.837958  1.184399 -0.171200 -0.640985  \n",
      "246  0.666092 -0.638851 -2.039316  0.491797 -0.579801 -0.218946  0.369373  \n",
      "247 -1.651685  0.777771  0.924306 -0.129127 -1.209042  0.513508  0.990100  \n",
      "248 -0.626431  0.830664 -1.374508 -0.362339 -1.119624  0.022965 -1.428315  \n",
      "249  0.068945 -0.672029  0.207215  0.182177  1.637611  0.731487 -0.161790  \n",
      "250 -1.939903  1.284017 -0.047928  0.364206 -0.503160 -1.069933 -1.068270  \n",
      "251 -1.530147 -0.935223  1.092234 -1.433047  0.811275  1.269257  1.115977  \n",
      "252 -0.817411 -0.388631 -1.886798 -0.066571 -0.288020  1.133015  0.664426  \n",
      "253 -0.120893 -1.785808  0.845630 -0.576432 -0.640596 -0.843395 -0.871947  \n",
      "254 -0.779598 -1.737616  0.965787  1.813324 -1.051369  1.304144  0.737563  \n",
      "255  0.315896 -0.009269  0.012535 -0.257332 -0.203442  0.018502 -2.745205  \n",
      "256  0.485151  0.366686  2.154046 -1.519539 -1.110505  0.984233 -1.322510  \n",
      "257 -0.162980  0.506692  0.810757 -1.515013  1.579235 -1.444311 -0.885045  \n",
      "258  2.662502 -0.487656  0.121814  2.423190 -0.116159  0.614407 -0.198071  \n",
      "259  0.249774  0.977285 -0.141201 -1.083743 -0.361380  0.274665 -1.182174  \n",
      "\n",
      "[260 rows x 25 columns]\n"
     ]
    },
    {
     "data": {
      "image/png": "[encoded data removed]",
      "text/plain": [
       "<Figure size 432x288 with 1 Axes>"
      ]
     },
     "metadata": {
      "needs_background": "light"
     },
     "output_type": "display_data"
    }
   ],
   "source": [
    "pca = PCA(n_components=5)\n",
    "\n",
    "x = StandardScaler().fit_transform(newX[New_EAD])\n",
    "\n",
    "print(len(x))\n",
    "\n",
    "\n",
    "df = pd.DataFrame(x)\n",
    "\n",
    "\n",
    "df.boxplot()\n",
    "\n",
    "\n",
    "print(df)"
   ]
  },
  {
   "cell_type": "code",
   "execution_count": 161,
   "metadata": {},
   "outputs": [
    {
     "data": {
      "text/plain": [
       "PCA(copy=True, iterated_power='auto', n_components=5, random_state=None,\n",
       "    svd_solver='auto', tol=0.0, whiten=False)"
      ]
     },
     "execution_count": 161,
     "metadata": {},
     "output_type": "execute_result"
    }
   ],
   "source": [
    "pca.fit(x*2)"
   ]
  },
  {
   "cell_type": "code",
   "execution_count": 162,
   "metadata": {},
   "outputs": [
    {
     "name": "stdout",
     "output_type": "stream",
     "text": [
      "[0.06846149 0.05998411 0.05721481 0.05595144 0.05260774]\n"
     ]
    },
    {
     "data": {
      "text/plain": [
       "-43.1652744862897"
      ]
     },
     "execution_count": 162,
     "metadata": {},
     "output_type": "execute_result"
    }
   ],
   "source": [
    "print(pca.explained_variance_ratio_)\n",
    "pca.score(x)"
   ]
  },
  {
   "cell_type": "code",
   "execution_count": 152,
   "metadata": {},
   "outputs": [],
   "source": [
    "from time import time\n",
    "from sklearn import metrics\n",
    "from sklearn.pipeline import make_pipeline\n",
    "from sklearn.preprocessing import StandardScaler\n",
    "from sklearn.cluster import KMeans\n",
    "from sklearn.decomposition import PCA"
   ]
  },
  {
   "cell_type": "code",
   "execution_count": 153,
   "metadata": {},
   "outputs": [],
   "source": [
    "kmeans = KMeans(init=\"k-means++\", n_clusters=25, n_init=4,\n",
    "                random_state=0)"
   ]
  },
  {
   "cell_type": "code",
   "execution_count": 154,
   "metadata": {},
   "outputs": [],
   "source": [
    "estimator = make_pipeline(StandardScaler(), kmeans).fit(newX[New_EAD])"
   ]
  },
  {
   "cell_type": "code",
   "execution_count": 155,
   "metadata": {
    "scrolled": true
   },
   "outputs": [],
   "source": [
    "import pandas as pd; url = \"https://archive.ics.uci.edu/ml/machine-learning-databases/iris/iris.data\"# load dataset into Pandas DataFrame\n",
    "df = pd.read_csv(url, names=['sepal length','sepal width','petal length','petal width','target'])"
   ]
  },
  {
   "cell_type": "code",
   "execution_count": 156,
   "metadata": {},
   "outputs": [],
   "source": [
    "# print (df)"
   ]
  },
  {
   "cell_type": "code",
   "execution_count": 157,
   "metadata": {},
   "outputs": [],
   "source": [
    "from sklearn.preprocessing import StandardScaler\n",
    "features = ['sepal length', 'sepal width', 'petal length', 'petal width']# Separating out the features\n",
    "x = df.loc[:, features].values# Separating out the target\n",
    "y = df.loc[:,['target']].values# Standardizing the features\n",
    "x = StandardScaler().fit_transform(x)"
   ]
  },
  {
   "cell_type": "code",
   "execution_count": 145,
   "metadata": {},
   "outputs": [
    {
     "name": "stdout",
     "output_type": "stream",
     "text": [
      "[['Iris-setosa']\n",
      " ['Iris-setosa']\n",
      " ['Iris-setosa']\n",
      " ['Iris-setosa']\n",
      " ['Iris-setosa']\n",
      " ['Iris-setosa']\n",
      " ['Iris-setosa']\n",
      " ['Iris-setosa']\n",
      " ['Iris-setosa']\n",
      " ['Iris-setosa']\n",
      " ['Iris-setosa']\n",
      " ['Iris-setosa']\n",
      " ['Iris-setosa']\n",
      " ['Iris-setosa']\n",
      " ['Iris-setosa']\n",
      " ['Iris-setosa']\n",
      " ['Iris-setosa']\n",
      " ['Iris-setosa']\n",
      " ['Iris-setosa']\n",
      " ['Iris-setosa']\n",
      " ['Iris-setosa']\n",
      " ['Iris-setosa']\n",
      " ['Iris-setosa']\n",
      " ['Iris-setosa']\n",
      " ['Iris-setosa']\n",
      " ['Iris-setosa']\n",
      " ['Iris-setosa']\n",
      " ['Iris-setosa']\n",
      " ['Iris-setosa']\n",
      " ['Iris-setosa']\n",
      " ['Iris-setosa']\n",
      " ['Iris-setosa']\n",
      " ['Iris-setosa']\n",
      " ['Iris-setosa']\n",
      " ['Iris-setosa']\n",
      " ['Iris-setosa']\n",
      " ['Iris-setosa']\n",
      " ['Iris-setosa']\n",
      " ['Iris-setosa']\n",
      " ['Iris-setosa']\n",
      " ['Iris-setosa']\n",
      " ['Iris-setosa']\n",
      " ['Iris-setosa']\n",
      " ['Iris-setosa']\n",
      " ['Iris-setosa']\n",
      " ['Iris-setosa']\n",
      " ['Iris-setosa']\n",
      " ['Iris-setosa']\n",
      " ['Iris-setosa']\n",
      " ['Iris-setosa']\n",
      " ['Iris-versicolor']\n",
      " ['Iris-versicolor']\n",
      " ['Iris-versicolor']\n",
      " ['Iris-versicolor']\n",
      " ['Iris-versicolor']\n",
      " ['Iris-versicolor']\n",
      " ['Iris-versicolor']\n",
      " ['Iris-versicolor']\n",
      " ['Iris-versicolor']\n",
      " ['Iris-versicolor']\n",
      " ['Iris-versicolor']\n",
      " ['Iris-versicolor']\n",
      " ['Iris-versicolor']\n",
      " ['Iris-versicolor']\n",
      " ['Iris-versicolor']\n",
      " ['Iris-versicolor']\n",
      " ['Iris-versicolor']\n",
      " ['Iris-versicolor']\n",
      " ['Iris-versicolor']\n",
      " ['Iris-versicolor']\n",
      " ['Iris-versicolor']\n",
      " ['Iris-versicolor']\n",
      " ['Iris-versicolor']\n",
      " ['Iris-versicolor']\n",
      " ['Iris-versicolor']\n",
      " ['Iris-versicolor']\n",
      " ['Iris-versicolor']\n",
      " ['Iris-versicolor']\n",
      " ['Iris-versicolor']\n",
      " ['Iris-versicolor']\n",
      " ['Iris-versicolor']\n",
      " ['Iris-versicolor']\n",
      " ['Iris-versicolor']\n",
      " ['Iris-versicolor']\n",
      " ['Iris-versicolor']\n",
      " ['Iris-versicolor']\n",
      " ['Iris-versicolor']\n",
      " ['Iris-versicolor']\n",
      " ['Iris-versicolor']\n",
      " ['Iris-versicolor']\n",
      " ['Iris-versicolor']\n",
      " ['Iris-versicolor']\n",
      " ['Iris-versicolor']\n",
      " ['Iris-versicolor']\n",
      " ['Iris-versicolor']\n",
      " ['Iris-versicolor']\n",
      " ['Iris-versicolor']\n",
      " ['Iris-versicolor']\n",
      " ['Iris-versicolor']\n",
      " ['Iris-versicolor']\n",
      " ['Iris-virginica']\n",
      " ['Iris-virginica']\n",
      " ['Iris-virginica']\n",
      " ['Iris-virginica']\n",
      " ['Iris-virginica']\n",
      " ['Iris-virginica']\n",
      " ['Iris-virginica']\n",
      " ['Iris-virginica']\n",
      " ['Iris-virginica']\n",
      " ['Iris-virginica']\n",
      " ['Iris-virginica']\n",
      " ['Iris-virginica']\n",
      " ['Iris-virginica']\n",
      " ['Iris-virginica']\n",
      " ['Iris-virginica']\n",
      " ['Iris-virginica']\n",
      " ['Iris-virginica']\n",
      " ['Iris-virginica']\n",
      " ['Iris-virginica']\n",
      " ['Iris-virginica']\n",
      " ['Iris-virginica']\n",
      " ['Iris-virginica']\n",
      " ['Iris-virginica']\n",
      " ['Iris-virginica']\n",
      " ['Iris-virginica']\n",
      " ['Iris-virginica']\n",
      " ['Iris-virginica']\n",
      " ['Iris-virginica']\n",
      " ['Iris-virginica']\n",
      " ['Iris-virginica']\n",
      " ['Iris-virginica']\n",
      " ['Iris-virginica']\n",
      " ['Iris-virginica']\n",
      " ['Iris-virginica']\n",
      " ['Iris-virginica']\n",
      " ['Iris-virginica']\n",
      " ['Iris-virginica']\n",
      " ['Iris-virginica']\n",
      " ['Iris-virginica']\n",
      " ['Iris-virginica']\n",
      " ['Iris-virginica']\n",
      " ['Iris-virginica']\n",
      " ['Iris-virginica']\n",
      " ['Iris-virginica']\n",
      " ['Iris-virginica']\n",
      " ['Iris-virginica']\n",
      " ['Iris-virginica']\n",
      " ['Iris-virginica']\n",
      " ['Iris-virginica']\n",
      " ['Iris-virginica']]\n",
      "['Iris-setosa' 'Iris-setosa' 'Iris-setosa' 'Iris-setosa' 'Iris-setosa'\n",
      " 'Iris-setosa' 'Iris-setosa' 'Iris-setosa' 'Iris-setosa' 'Iris-setosa'\n",
      " 'Iris-setosa' 'Iris-setosa' 'Iris-setosa' 'Iris-setosa' 'Iris-setosa'\n",
      " 'Iris-setosa' 'Iris-setosa' 'Iris-setosa' 'Iris-setosa' 'Iris-setosa'\n",
      " 'Iris-setosa' 'Iris-setosa' 'Iris-setosa' 'Iris-setosa' 'Iris-setosa'\n",
      " 'Iris-setosa' 'Iris-setosa' 'Iris-setosa' 'Iris-setosa' 'Iris-setosa'\n",
      " 'Iris-setosa' 'Iris-setosa' 'Iris-setosa' 'Iris-setosa' 'Iris-setosa'\n",
      " 'Iris-setosa' 'Iris-setosa' 'Iris-setosa' 'Iris-setosa' 'Iris-setosa'\n",
      " 'Iris-setosa' 'Iris-setosa' 'Iris-setosa' 'Iris-setosa' 'Iris-setosa'\n",
      " 'Iris-setosa' 'Iris-setosa' 'Iris-setosa' 'Iris-setosa' 'Iris-setosa'\n",
      " 'Iris-versicolor' 'Iris-versicolor' 'Iris-versicolor' 'Iris-versicolor'\n",
      " 'Iris-versicolor' 'Iris-versicolor' 'Iris-versicolor' 'Iris-versicolor'\n",
      " 'Iris-versicolor' 'Iris-versicolor' 'Iris-versicolor' 'Iris-versicolor'\n",
      " 'Iris-versicolor' 'Iris-versicolor' 'Iris-versicolor' 'Iris-versicolor'\n",
      " 'Iris-versicolor' 'Iris-versicolor' 'Iris-versicolor' 'Iris-versicolor'\n",
      " 'Iris-versicolor' 'Iris-versicolor' 'Iris-versicolor' 'Iris-versicolor'\n",
      " 'Iris-versicolor' 'Iris-versicolor' 'Iris-versicolor' 'Iris-versicolor'\n",
      " 'Iris-versicolor' 'Iris-versicolor' 'Iris-versicolor' 'Iris-versicolor'\n",
      " 'Iris-versicolor' 'Iris-versicolor' 'Iris-versicolor' 'Iris-versicolor'\n",
      " 'Iris-versicolor' 'Iris-versicolor' 'Iris-versicolor' 'Iris-versicolor'\n",
      " 'Iris-versicolor' 'Iris-versicolor' 'Iris-versicolor' 'Iris-versicolor'\n",
      " 'Iris-versicolor' 'Iris-versicolor' 'Iris-versicolor' 'Iris-versicolor'\n",
      " 'Iris-versicolor' 'Iris-versicolor' 'Iris-virginica' 'Iris-virginica'\n",
      " 'Iris-virginica' 'Iris-virginica' 'Iris-virginica' 'Iris-virginica'\n",
      " 'Iris-virginica' 'Iris-virginica' 'Iris-virginica' 'Iris-virginica'\n",
      " 'Iris-virginica' 'Iris-virginica' 'Iris-virginica' 'Iris-virginica'\n",
      " 'Iris-virginica' 'Iris-virginica' 'Iris-virginica' 'Iris-virginica'\n",
      " 'Iris-virginica' 'Iris-virginica' 'Iris-virginica' 'Iris-virginica'\n",
      " 'Iris-virginica' 'Iris-virginica' 'Iris-virginica' 'Iris-virginica'\n",
      " 'Iris-virginica' 'Iris-virginica' 'Iris-virginica' 'Iris-virginica'\n",
      " 'Iris-virginica' 'Iris-virginica' 'Iris-virginica' 'Iris-virginica'\n",
      " 'Iris-virginica' 'Iris-virginica' 'Iris-virginica' 'Iris-virginica'\n",
      " 'Iris-virginica' 'Iris-virginica' 'Iris-virginica' 'Iris-virginica'\n",
      " 'Iris-virginica' 'Iris-virginica' 'Iris-virginica' 'Iris-virginica'\n",
      " 'Iris-virginica' 'Iris-virginica' 'Iris-virginica' 'Iris-virginica']\n"
     ]
    }
   ],
   "source": [
    "#print(x)\n",
    "y = df.loc[:,['target']].values\n",
    "\n",
    "print(y)\n",
    "\n",
    "print(df['target'].values)\n",
    "\n"
   ]
  },
  {
   "cell_type": "code",
   "execution_count": 146,
   "metadata": {},
   "outputs": [
    {
     "name": "stdout",
     "output_type": "stream",
     "text": [
      "[0.72770452 0.23030523 0.03683832]\n"
     ]
    },
    {
     "data": {
      "text/plain": [
       "-3.2704819371969465"
      ]
     },
     "execution_count": 146,
     "metadata": {},
     "output_type": "execute_result"
    }
   ],
   "source": [
    "pca2 = PCA(n_components=3);\n",
    "principalComponents = pca2.fit_transform(x)\n",
    "principalDf = pd.DataFrame(data = principalComponents\n",
    "             , columns = ['principal component 1', 'principal component 2', 'principal component 3'])\n",
    "finalDf = pd.concat([principalDf, df[['target']]], axis = 1)\n",
    "\n",
    "pca2.fit(x)\n",
    "\n",
    "print(pca2.explained_variance_ratio_)\n",
    "pca2.score(x)"
   ]
  },
  {
   "cell_type": "code",
   "execution_count": 147,
   "metadata": {},
   "outputs": [
    {
     "data": {
      "image/png": "[encoded data removed]",
      "text/plain": [
       "<Figure size 576x576 with 1 Axes>"
      ]
     },
     "metadata": {
      "needs_background": "light"
     },
     "output_type": "display_data"
    }
   ],
   "source": [
    "fig = plt.figure(figsize = (8,8))\n",
    "ax = fig.add_subplot(1,1,1) \n",
    "ax.set_xlabel('Principal Component 1', fontsize = 15)\n",
    "ax.set_ylabel('Principal Component 2', fontsize = 15)\n",
    "ax.set_title('2 component PCA', fontsize = 20)\n",
    "targets = ['Iris-setosa', 'Iris-versicolor', 'Iris-virginica']\n",
    "colors = ['r', 'g', 'b']\n",
    "for target, color in zip(targets,colors):\n",
    "    indicesToKeep = finalDf['target'] == target\n",
    "    ax.scatter(finalDf.loc[indicesToKeep, 'principal component 1']\n",
    "               , finalDf.loc[indicesToKeep, 'principal component 2']\n",
    "               , c = color\n",
    "               , s = 50)\n",
    "ax.legend(targets)\n",
    "ax.grid()"
   ]
  },
  {
   "cell_type": "code",
   "execution_count": null,
   "metadata": {},
   "outputs": [],
   "source": []
  },
  {
   "cell_type": "code",
   "execution_count": null,
   "metadata": {},
   "outputs": [],
   "source": []
  }
 ],
 "metadata": {
  "kernelspec": {
   "display_name": "Python 3",
   "language": "python",
   "name": "python3"
  },
  "language_info": {
   "codemirror_mode": {
    "name": "ipython",
    "version": 3
   },
   "file_extension": ".py",
   "mimetype": "text/x-python",
   "name": "python",
   "nbconvert_exporter": "python",
   "pygments_lexer": "ipython3",
   "version": "3.7.3"
  }
 },
 "nbformat": 4,
 "nbformat_minor": 2
}
